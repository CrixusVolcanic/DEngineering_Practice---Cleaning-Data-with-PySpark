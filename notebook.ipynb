{
 "cells": [
  {
   "cell_type": "code",
   "execution_count": null,
   "id": "62b55d87-f8fd-4e8a-9ef6-6fe91f4de5f3",
   "metadata": {
    "executionCancelledAt": null,
    "executionTime": 12,
    "lastExecutedAt": 1730286531448,
    "lastExecutedByKernel": "bef3df01-8361-4fbf-8f53-a91b4cfb73c5",
    "lastScheduledRunId": null,
    "lastSuccessfullyExecutedCode": "from pyspark.sql import (\n    SparkSession,\n    types,\n    functions as F,\n)\n\nspark = (\n    SparkSession\n    .builder\n    .appName('cleaning_orders_dataset_with_pyspark')\n    .getOrCreate()\n)",
    "outputsMetadata": {
     "0": {
      "height": 59,
      "type": "stream"
     },
     "1": {
      "height": 59,
      "type": "stream"
     }
    }
   },
   "outputs": [
    {
     "name": "stderr",
     "output_type": "stream",
     "text": [
      "24/10/30 17:04:40 WARN Utils: Your hostname, codespaces-56c3ba resolves to a loopback address: 127.0.0.1; using 10.0.1.247 instead (on interface eth0)\n",
      "24/10/30 17:04:40 WARN Utils: Set SPARK_LOCAL_IP if you need to bind to another address\n",
      "Setting default log level to \"WARN\".\n",
      "To adjust logging level use sc.setLogLevel(newLevel). For SparkR, use setLogLevel(newLevel).\n",
      "24/10/30 17:04:41 WARN NativeCodeLoader: Unable to load native-hadoop library for your platform... using builtin-java classes where applicable\n"
     ]
    },
    {
     "name": "stderr",
     "output_type": "stream",
     "text": [
      "24/10/30 17:04:54 WARN GarbageCollectionMetrics: To enable non-built-in garbage collector(s) List(G1 Concurrent GC), users should configure it(them) to spark.eventLog.gcMetrics.youngGenerationGarbageCollectors or spark.eventLog.gcMetrics.oldGenerationGarbageCollectors\n"
     ]
    }
   ],
   "source": [
    "from pyspark.sql import (\n",
    "    SparkSession,\n",
    "    types,\n",
    "    functions as F,\n",
    ")\n",
    "\n",
    "spark = (\n",
    "    SparkSession\n",
    "    .builder\n",
    "    .appName('cleaning_orders_dataset_with_pyspark')\n",
    "    .getOrCreate()\n",
    ")"
   ]
  },
  {
   "cell_type": "code",
   "execution_count": 4,
   "id": "fa903d28-82b2-4c39-90b1-3d9a9421fb6d",
   "metadata": {
    "executionCancelledAt": null,
    "executionTime": 2756,
    "lastExecutedAt": 1730286534204,
    "lastExecutedByKernel": "bef3df01-8361-4fbf-8f53-a91b4cfb73c5",
    "lastScheduledRunId": null,
    "lastSuccessfullyExecutedCode": "orders_data = spark.read.parquet('orders_data.parquet')\norders_data.toPandas().head()",
    "outputsMetadata": {
     "0": {
      "height": 188,
      "type": "dataFrame"
     },
     "1": {
      "height": 237,
      "type": "dataFrame"
     }
    }
   },
   "outputs": [
    {
     "name": "stderr",
     "output_type": "stream",
     "text": [
      "                                                                                \r"
     ]
    },
    {
     "data": {
      "text/html": [
       "<div>\n",
       "<style scoped>\n",
       "    .dataframe tbody tr th:only-of-type {\n",
       "        vertical-align: middle;\n",
       "    }\n",
       "\n",
       "    .dataframe tbody tr th {\n",
       "        vertical-align: top;\n",
       "    }\n",
       "\n",
       "    .dataframe thead th {\n",
       "        text-align: right;\n",
       "    }\n",
       "</style>\n",
       "<table border=\"1\" class=\"dataframe\">\n",
       "  <thead>\n",
       "    <tr style=\"text-align: right;\">\n",
       "      <th></th>\n",
       "      <th>order_date</th>\n",
       "      <th>order_id</th>\n",
       "      <th>product</th>\n",
       "      <th>product_id</th>\n",
       "      <th>category</th>\n",
       "      <th>purchase_address</th>\n",
       "      <th>quantity_ordered</th>\n",
       "      <th>price_each</th>\n",
       "      <th>cost_price</th>\n",
       "      <th>turnover</th>\n",
       "      <th>margin</th>\n",
       "    </tr>\n",
       "  </thead>\n",
       "  <tbody>\n",
       "    <tr>\n",
       "      <th>0</th>\n",
       "      <td>2023-01-22 21:25:00</td>\n",
       "      <td>141234</td>\n",
       "      <td>iPhone</td>\n",
       "      <td>5.638009e+12</td>\n",
       "      <td>Vêtements</td>\n",
       "      <td>944 Walnut St, Boston, MA 02215</td>\n",
       "      <td>1</td>\n",
       "      <td>700.00</td>\n",
       "      <td>231.0000</td>\n",
       "      <td>700.00</td>\n",
       "      <td>469.0000</td>\n",
       "    </tr>\n",
       "    <tr>\n",
       "      <th>1</th>\n",
       "      <td>2023-01-28 14:15:00</td>\n",
       "      <td>141235</td>\n",
       "      <td>Lightning Charging Cable</td>\n",
       "      <td>5.563320e+12</td>\n",
       "      <td>Alimentation</td>\n",
       "      <td>185 Maple St, Portland, OR 97035</td>\n",
       "      <td>1</td>\n",
       "      <td>14.95</td>\n",
       "      <td>7.4750</td>\n",
       "      <td>14.95</td>\n",
       "      <td>7.4750</td>\n",
       "    </tr>\n",
       "    <tr>\n",
       "      <th>2</th>\n",
       "      <td>2023-01-17 13:33:00</td>\n",
       "      <td>141236</td>\n",
       "      <td>Wired Headphones</td>\n",
       "      <td>2.113973e+12</td>\n",
       "      <td>Vêtements</td>\n",
       "      <td>538 Adams St, San Francisco, CA 94016</td>\n",
       "      <td>2</td>\n",
       "      <td>11.99</td>\n",
       "      <td>5.9950</td>\n",
       "      <td>23.98</td>\n",
       "      <td>11.9900</td>\n",
       "    </tr>\n",
       "    <tr>\n",
       "      <th>3</th>\n",
       "      <td>2023-01-05 20:33:00</td>\n",
       "      <td>141237</td>\n",
       "      <td>27in FHD Monitor</td>\n",
       "      <td>3.069157e+12</td>\n",
       "      <td>Sports</td>\n",
       "      <td>738 10th St, Los Angeles, CA 90001</td>\n",
       "      <td>1</td>\n",
       "      <td>149.99</td>\n",
       "      <td>97.4935</td>\n",
       "      <td>149.99</td>\n",
       "      <td>52.4965</td>\n",
       "    </tr>\n",
       "    <tr>\n",
       "      <th>4</th>\n",
       "      <td>2023-01-25 11:59:00</td>\n",
       "      <td>141238</td>\n",
       "      <td>Wired Headphones</td>\n",
       "      <td>9.692681e+12</td>\n",
       "      <td>Électronique</td>\n",
       "      <td>387 10th St, Austin, TX 73301</td>\n",
       "      <td>1</td>\n",
       "      <td>11.99</td>\n",
       "      <td>5.9950</td>\n",
       "      <td>11.99</td>\n",
       "      <td>5.9950</td>\n",
       "    </tr>\n",
       "  </tbody>\n",
       "</table>\n",
       "</div>"
      ],
      "text/plain": [
       "           order_date  order_id                   product    product_id  \\\n",
       "0 2023-01-22 21:25:00    141234                    iPhone  5.638009e+12   \n",
       "1 2023-01-28 14:15:00    141235  Lightning Charging Cable  5.563320e+12   \n",
       "2 2023-01-17 13:33:00    141236          Wired Headphones  2.113973e+12   \n",
       "3 2023-01-05 20:33:00    141237          27in FHD Monitor  3.069157e+12   \n",
       "4 2023-01-25 11:59:00    141238          Wired Headphones  9.692681e+12   \n",
       "\n",
       "       category                       purchase_address  quantity_ordered  \\\n",
       "0     Vêtements        944 Walnut St, Boston, MA 02215                 1   \n",
       "1  Alimentation       185 Maple St, Portland, OR 97035                 1   \n",
       "2     Vêtements  538 Adams St, San Francisco, CA 94016                 2   \n",
       "3        Sports     738 10th St, Los Angeles, CA 90001                 1   \n",
       "4  Électronique          387 10th St, Austin, TX 73301                 1   \n",
       "\n",
       "   price_each  cost_price  turnover    margin  \n",
       "0      700.00    231.0000    700.00  469.0000  \n",
       "1       14.95      7.4750     14.95    7.4750  \n",
       "2       11.99      5.9950     23.98   11.9900  \n",
       "3      149.99     97.4935    149.99   52.4965  \n",
       "4       11.99      5.9950     11.99    5.9950  "
      ]
     },
     "execution_count": 4,
     "metadata": {},
     "output_type": "execute_result"
    }
   ],
   "source": [
    "orders_data = spark.read.parquet('orders_data.parquet')\n",
    "orders_data.toPandas().head()"
   ]
  },
  {
   "cell_type": "code",
   "execution_count": 6,
   "id": "e318a0c9-ecbb-4b0b-8292-99ae957f524a",
   "metadata": {
    "executionCancelledAt": null,
    "executionTime": 2925,
    "lastExecutedAt": 1730286537129,
    "lastExecutedByKernel": "bef3df01-8361-4fbf-8f53-a91b4cfb73c5",
    "lastScheduledRunId": null,
    "lastSuccessfullyExecutedCode": "# Start here, using as many cells as you require\norders_data.createOrReplaceTempView('orders_data')\n\nfinal_df = spark.sql(\"\"\"select date(order_date) as order_date\n                          ,case when hour(order_date) >= 18 then 'evening'\n                            when hour(order_date) >= 12 then 'afternoon'\n                            when hour(order_date) >= 5 then 'morning'\n                          end time_of_day\n                          ,order_id\n                          ,lower(product) product\n                          ,product_id\n                          ,lower(category) category\n                          ,purchase_address\n                          ,split(split(purchase_address, ', ')[2], ' ')[0] purchase_state\n                          ,quantity_ordered\n                          ,price_each\n                          ,cost_price\n                          ,turnover\n                          ,margin\n                        from orders_data\n                        where hour(order_date) >= 5\n                          and lower(product) not like '%tv%' \"\"\")\n\nfinal_df.toPandas().to_parquet('orders_data_clean.parquet')",
    "outputsMetadata": {
     "0": {
      "height": 38,
      "type": "stream"
     }
    }
   },
   "outputs": [
    {
     "name": "stderr",
     "output_type": "stream",
     "text": [
      "                                                                                \r"
     ]
    }
   ],
   "source": [
    "orders_data.createOrReplaceTempView('orders_data')\n",
    "\n",
    "final_df = spark.sql(\"\"\"select date(order_date) as order_date\n",
    "                          ,case when hour(order_date) >= 18 then 'evening'\n",
    "                            when hour(order_date) >= 12 then 'afternoon'\n",
    "                            when hour(order_date) >= 5 then 'morning'\n",
    "                          end time_of_day\n",
    "                          ,order_id\n",
    "                          ,lower(product) product\n",
    "                          ,product_id\n",
    "                          ,lower(category) category\n",
    "                          ,purchase_address\n",
    "                          ,split(split(purchase_address, ', ')[2], ' ')[0] purchase_state\n",
    "                          ,quantity_ordered\n",
    "                          ,price_each\n",
    "                          ,cost_price\n",
    "                          ,turnover\n",
    "                          ,margin\n",
    "                        from orders_data\n",
    "                        where hour(order_date) >= 5\n",
    "                          and lower(product) not like '%tv%' \"\"\")\n",
    "\n",
    "final_df.toPandas().to_parquet('orders_data_clean.parquet')"
   ]
  }
 ],
 "metadata": {
  "colab": {
   "name": "Welcome to DataCamp Workspaces.ipynb",
   "provenance": []
  },
  "editor": "DataLab",
  "kernelspec": {
   "display_name": "Python 3",
   "language": "python",
   "name": "python3"
  },
  "language_info": {
   "codemirror_mode": {
    "name": "ipython",
    "version": 3
   },
   "file_extension": ".py",
   "mimetype": "text/x-python",
   "name": "python",
   "nbconvert_exporter": "python",
   "pygments_lexer": "ipython3",
   "version": "3.12.1"
  }
 },
 "nbformat": 4,
 "nbformat_minor": 5
}
